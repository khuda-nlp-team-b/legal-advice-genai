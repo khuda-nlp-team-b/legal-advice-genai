{
 "cells": [
  {
   "cell_type": "markdown",
   "id": "21485449",
   "metadata": {},
   "source": [
    "# 사전 작업"
   ]
  },
  {
   "cell_type": "code",
   "execution_count": 2,
   "id": "f8b3ab66",
   "metadata": {},
   "outputs": [],
   "source": [
    "# 필요 라이브러리 선언\n",
    "\n",
    "from langchain_community.vectorstores import Chroma\n",
    "from langchain_openai import OpenAIEmbeddings   \n",
    "from langchain_text_splitters import RecursiveCharacterTextSplitter\n",
    "from langchain.retrievers import ParentDocumentRetriever\n",
    "from langchain.schema import Document\n",
    "import pandas as pd\n",
    "import pymysql\n",
    "from langchain_community.storage import SQLStore\n",
    "import os\n",
    "import warnings\n",
    "import chromadb\n",
    "warnings.filterwarnings('ignore')"
   ]
  },
  {
   "cell_type": "code",
   "execution_count": 2,
   "id": "aeaafd41",
   "metadata": {},
   "outputs": [],
   "source": [
    "# 필요 변수 선언\n",
    "\n",
    "host = os.environ.get('DB_HOST')\n",
    "port = 3306\n",
    "username = os.environ.get('DB_USER')\n",
    "password = os.getenv('DB_PASSWORD')\n",
    "db = os.getenv('DB_NAME')\n",
    "api_key = os.getenv('OPENAI_API_KEY')"
   ]
  },
  {
   "cell_type": "code",
   "execution_count": 3,
   "id": "6b017dee",
   "metadata": {},
   "outputs": [],
   "source": [
    "# 함수 정의\n",
    "\n",
    "def get_mysql_connection(host,port,username,password,db_name):\n",
    "    try:\n",
    "        conn = pymysql.connect(host=host, port=port, user=username, password=password, db=db_name,charset='utf8',cursorclass=pymysql.cursors.DictCursor)\n",
    "        print(f\"MySQL 연결 성공\")\n",
    "        return conn\n",
    "    except Exception as e:\n",
    "        print(f\"MySQL 연결 오류: {e}\")\n",
    "        return None\n",
    "    \n",
    "def get_document(conn,source):\n",
    "    try: \n",
    "        with conn.cursor() as cursor:\n",
    "            sql = f'SELECT 판례일련번호, 판례내용 FROM 판례 WHERE 판례일련번호 = {source}'\n",
    "            cursor.execute(sql)\n",
    "            result = cursor.fetchone()\n",
    "            return result\n",
    "    except Exception as e:\n",
    "        print(f\"MySQL 조회 오류: {e}\")\n",
    "        return None\n",
    "    \n",
    "def retrieve_db(query, vectorstore, conn):\n",
    "\n",
    "    retriever = vectorstore.as_retriever(search_kwargs={\"k\": 1})\n",
    "    # print('벡터스토어 검색 중...')\n",
    "    results = retriever.invoke(query)\n",
    "    \n",
    "    # 결과 출력\n",
    "    for i, doc in enumerate(results):\n",
    "        meta = doc.metadata\n",
    "        # print(f\"\\n🔍 [결과 {i+1}]\")\n",
    "        # print(f\"▶ 판례일련번호 : {meta['source']}\")\n",
    "        # print(f\"▶ 사건명 : {meta['case_type']}\")\n",
    "        # print(\"유사 문단:\", doc.page_content.strip())\n",
    "        # result = get_document(conn,meta['source'])\n",
    "        # print('▶ 전체 판례:',result['판례내용'])\n",
    "        # print(\"\\n\" + \"=\"*50)\n",
    "\n",
    "        return doc.page_content.strip()"
   ]
  },
  {
   "cell_type": "code",
   "execution_count": 4,
   "id": "141921b0",
   "metadata": {},
   "outputs": [
    {
     "name": "stdout",
     "output_type": "stream",
     "text": [
      "벡터스토어 생성 중...\n",
      "벡터스토어 생성 완료\n",
      "MySQL 연결 성공\n"
     ]
    }
   ],
   "source": [
    "# 벡터스토어 불러오기 + mySQL 연결설정 분리\n",
    "\n",
    "base_db_dir='./db'\n",
    "\n",
    "print('벡터스토어 생성 중...')\n",
    "vectorstore = Chroma(\n",
    "    persist_directory=base_db_dir,\n",
    "    embedding_function=OpenAIEmbeddings(api_key=api_key),\n",
    "    collection_name='LAW_RAG'\n",
    ")\n",
    "print('벡터스토어 생성 완료')\n",
    "\n",
    "conn = get_mysql_connection(host,port,username,password,db)"
   ]
  },
  {
   "cell_type": "markdown",
   "id": "72665922",
   "metadata": {},
   "source": [
    "# 시작"
   ]
  },
  {
   "cell_type": "code",
   "execution_count": 274,
   "id": "bd5e5ca7",
   "metadata": {},
   "outputs": [
    {
     "name": "stdout",
     "output_type": "stream",
     "text": [
      "- 나는 친구에게 500만 원을 빌려줬는데, 약속한 기한이 지나도 갚지 않고 연락을 피하고 있다. 여러 차례 연락했지만 계속 무시당하고 있다. 법적으로 대응해야 할지 고민 중이다.\n",
      "- 동네 마트에서 바닥이 젖어 있는 걸 모르고 미끄러져 크게 다쳤다. 근처에 미끄럼 주의 표지판도 없었고, 병원 진단 결과 무릎 인대가 파열되었다. 치료비와 손해배상을 요구하고 싶다.\n",
      "- 상점을 운영하는데, 갑작스럽게 임대료를 인상하겠다는 건물주의 통보를 받았다. 계약서에는 임대료 인상에 대한 내용이 명확히 명시되어 있지 않은 상황이다.\n",
      "- 아파트 단지 내에서 취미로 드론을 날리다가, 이웃집 창문을 깨뜨렸다. 이웃이 창문 수리비를 요구하고 있으며, 법적 책임에 대해 알고 싶다.\n",
      "- 차를 주차장에 주차해놓고 왔는데, 돌아와보니 차량이 훼손되어 있었다. CCTV를 확인해보니 주차장 관리자가 차량을 이동하다가 발생한 사고였다.\n",
      "- 택시를 타고 가다가 운전자의 과속으로 인해 사고가 났다. 운전자는 거의 무사하였으나, 나는 팔을 골절하였다. 이에 대한 보상을 청구하고 싶다.\n",
      "- 온라인 쇼핑몰에서 물건을 주문하였는데, 배송이 한 달 넘게 지연되고 있다. 판매자는 배송에 대한 명확한 설명이 없으며, 환불 요청에도 응답이 없다.\n",
      "- 나는 공무원인데, 직장에서 성희롱을 당했다. 상사의 부적절한 말과 행동으로 인해 업무에 지장이 있으며, 계속된 상황에 대해 법적 조치를 고려하고 있다.\n",
      "- 이웃집에서 매일 밤 늦게까지 큰 소리로 노래를 부른다. 이로 인해 잠을 제대로 잘 수 없는 상황이다. 이웃에게 피해를 주는 소음에 대해 법적으로 어떻게 대응할 수 있는지 알고 싶다.\n",
      "- 공장에서 근무하다가, 안전 대책이 미흡한 상황에서 근무하다가 다치게 되었다. 회사는 책임을 지지 않겠다며, 병원비 지원을 거부하고 있다.\n",
      "- 부동산을 매매하다가, 계약 상의 내용을 위반한 상대방으로 인해 손해를 보았다. 상대방은 계약 위반 사실을 인정하지 않고, 손해배상을 거부하고 있다.\n",
      "- 직원인데, 회사에서 정당한 이유 없이 해고 당했다. 이에 대한 법적 대응을 고려하고 있다.\n",
      "- 주차장에 차를 주차해 놓았는데, 돌아오니 차량이 도난당한 상태였다. 주차장 측은 CCTV가 고장났다며, 책임을 지지 않겠다는 입장이다.\n",
      "- 아이가 놀이터에서 미끄럼틀에서 미끄러지다가 크게 다쳤다. 미끄럼틀 설치가 불안정하고, 안전 조치가 취해지지 않은 것이 원인으로 보인다.\n",
      "- 집을 살 때 중개업자가 중요한 정보를 숨겨 팔았다. 이로 인해 큰 손해를 보았고, 중개업자는 책임을 회피하고 있다.\n",
      "- 아파트에서 살고 있는데, 옆집에서 계속해서 담배 연기가 들어온다. 이로 인해 건강에 문제가 생겼고, 이웃은 행동을 개선하지 않는다.\n",
      "- 카페에서 음료를 마시다가, 컵에 작은 유리조각이 들어 있어 입을 다쳤다. 카페는 사고에 대해 알고 있음에도 불구하고 책임을 지지 않겠다는 입장이다.\n",
      "- 택시를 타고 가다가, 운전자가 신호를 위반하며 다른 차량과 충돌하는 사고가 발생했다. 택시 회사는 사고에 대한 책임을 인정하지 않고 있다.\n",
      "- 온라인에서 물건을 팔았는데, 구매자가 결제를 하지 않고 물건을 착취하였다. 구매자는 연락을 끊어버렸고, 환불을 받을 수 있는 방법을 모르겠다.\n",
      "- 집을 임대하던 중, 세입자가 임대료를 납부하지 않고 사라졌다. 세입자의 연락처는 더 이상 연결되지 않고, 임대료 부채를 추심하고 싶다.\n",
      "- 인터넷에서 상품을 판매했는데, 구매자가 받은 상품이 이미 사용된 상태라며 환불을 요구하고 있다. 하지만 내가 보낸 상품은 새 상품이었고, 이에 대한 해결 방안을 찾고 있다.\n",
      "- 아이를 유치원에 보내는데, 아이가 교사로부터 체벌을 당했다. 유치원 측은 이를 부인하고 있으며, 이에 대한 법적 대응을 고려하고 있다.\n",
      "- 아파트에서 살고 있는데, 상위 층에서 매일 밤 늦게까지 소음을 발생시킨다. 이로 인해 수면을 제대로 취하지 못하고, 이웃은 소음을 줄이겠다는 의지를 보이지 않는다.\n",
      "- 친구에게 빌려준 돈을 돌려받지 못하고 있다. 약속한 기한이 지났지만, 친구는 돈을 갚겠다는 의사를 보이지 않고, 연락도 끊어버렸다.\n",
      "- 아이가 학교에서 괴롭힘을 당하고 있다. 학교는 이에 대한 조치를 취하지 않고 있으며, 아이의 정신적인 상태가 매우 안 좋아졌다.\n",
      "- 쇼핑몰에서 옷을 구매했는데, 홈페이지에 표시된 사이즈와 실제 사이즈가 많이 달랐다. 판매자는 환불을 거부하고 있으며, 이에 대한 해결 방안을 찾고 있다.\n",
      "- 직장에서 성희롱을 당했으나, 회사는 이를 무시하고 있다. 상사의 부적절한 행동으로 인해 업무에 지장이 있으며, 법적 조치를 고려하고 있다.\n",
      "- 임대아파트에서 살고 있는데, 건물주가 임대료를 단번에 50% 인상하겠다고 통보하였다. 계약서에는 임대료 인상에 대한 내용이 명확히 명시되어 있지 않다.\n",
      "- 인터넷에서 사용하지 않는 물건을 팔았는데, 구매자가 물건을 받았음에도 불구하고 전혀 연락이 없으며, 결제도 하지 않았다. 이에 대한 해결 방안을 찾고 있다.\n"
     ]
    }
   ],
   "source": [
    "import openai\n",
    "\n",
    "def generate_legal_questions(api_key):\n",
    "    client = openai.OpenAI(api_key=api_key)\n",
    "\n",
    "    prompt = \"\"\"\n",
    "    당신은 법률 자문 시스템을 위한 상황 데이터셋을 생성하고자 합니다.\n",
    "    현실에서 사람들이 경험할 수 있는 법적으로 문제가 되는 다양한 상황을 예시로 30개 만들어주세요.\n",
    "    각 상황은 3문장 내외로 구체적으로 서술되어야 하며, 형사/민사/행정 등 다양한 법적 분쟁 유형을 포함하면 좋습니다.\n",
    "    출력은 아래 형식처럼 Python의 리스트 형태로 해주세요:\n",
    "\n",
    "    [\n",
    "        \"나는 친구에게 500만 원을 빌려줬는데, 약속한 기한이 지나도 갚지 않고 연락을 피하고 있다. 여러 차례 연락했지만 계속 무시당하고 있다. 법적으로 대응해야 할지 고민 중이다.\",\n",
    "        \"동네 마트에서 바닥이 젖어 있는 걸 모르고 미끄러져 크게 다쳤다. 근처에 미끄럼 주의 표지판도 없었고, 병원 진단 결과 무릎 인대가 파열되었다. 치료비와 손해배상을 요구하고 싶다.\",\n",
    "        ...\n",
    "    ]\n",
    "    \"\"\"\n",
    "\n",
    "    response = client.chat.completions.create(\n",
    "        model=\"gpt-4\",\n",
    "        messages=[{\"role\": \"user\", \"content\": prompt}],\n",
    "        temperature=0.7\n",
    "        #max_tokens=1500\n",
    "    )\n",
    "\n",
    "    # 응답에서 텍스트 추출\n",
    "    generated_text = response.choices[0].message.content\n",
    "\n",
    "    try:\n",
    "        question_list = eval(generated_text.strip())  # 안전하게 하려면 ast.literal_eval 추천\n",
    "    except:\n",
    "        question_list = []\n",
    "\n",
    "    return question_list\n",
    "\n",
    "# 사용 예시\n",
    "api_key = api_key  # 본인의 OpenAI API 키\n",
    "questions = generate_legal_questions(api_key)\n",
    "\n",
    "for q in questions:\n",
    "    print(\"-\", q)\n"
   ]
  },
  {
   "cell_type": "code",
   "execution_count": null,
   "id": "3110a68d",
   "metadata": {},
   "outputs": [],
   "source": [
    "# 질문 생성\n",
    "df = pd.DataFrame(questions, columns=['user_input'])\n",
    "df.to_csv('test_files/questions.csv', encoding='utf-8-sig')"
   ]
  },
  {
   "cell_type": "code",
   "execution_count": 5,
   "id": "4eee51d4",
   "metadata": {},
   "outputs": [],
   "source": [
    "# 질문 불러오기\n",
    "df = pd.read_csv('test_files/questions.csv', encoding='utf-8-sig')\n",
    "\n",
    "questions = df['user_input']\n",
    "\n",
    "contexts = []\n",
    "\n",
    "for i in questions:\n",
    "    # print(f'질문: {i}')\n",
    "    contexts.append(retrieve_db(i, vectorstore, conn))  \n",
    "    # contexts.append(\"'hello'\")\n",
    "    "
   ]
  },
  {
   "cell_type": "code",
   "execution_count": 19,
   "id": "bd05532d",
   "metadata": {},
   "outputs": [],
   "source": [
    "df['response'] = contexts\n",
    "\n",
    "df.to_csv('test_files/questions_retrieve.csv', encoding='utf-8-sig')"
   ]
  },
  {
   "cell_type": "code",
   "execution_count": 20,
   "id": "747eccdb",
   "metadata": {},
   "outputs": [
    {
     "data": {
      "text/html": [
       "<div>\n",
       "<style scoped>\n",
       "    .dataframe tbody tr th:only-of-type {\n",
       "        vertical-align: middle;\n",
       "    }\n",
       "\n",
       "    .dataframe tbody tr th {\n",
       "        vertical-align: top;\n",
       "    }\n",
       "\n",
       "    .dataframe thead th {\n",
       "        text-align: right;\n",
       "    }\n",
       "</style>\n",
       "<table border=\"1\" class=\"dataframe\">\n",
       "  <thead>\n",
       "    <tr style=\"text-align: right;\">\n",
       "      <th></th>\n",
       "      <th>user_input</th>\n",
       "      <th>response</th>\n",
       "    </tr>\n",
       "  </thead>\n",
       "  <tbody>\n",
       "    <tr>\n",
       "      <th>0</th>\n",
       "      <td>나는 친구에게 500만 원을 빌려줬는데, 약속한 기한이 지나도 갚지 않고 연락을 피...</td>\n",
       "      <td>다. 피청구인은 청구인이 위 박○○에게 임금을 지불하지 않았다고 주장하나, 청구인은...</td>\n",
       "    </tr>\n",
       "    <tr>\n",
       "      <th>1</th>\n",
       "      <td>동네 마트에서 바닥이 젖어 있는 걸 모르고 미끄러져 크게 다쳤다. 근처에 미끄럼 주...</td>\n",
       "      <td>적의 파편에 맞아 우측 다리에 부상을 입고 ○○지구경찰병원 ○○분소에서 치료받은 사...</td>\n",
       "    </tr>\n",
       "    <tr>\n",
       "      <th>2</th>\n",
       "      <td>상점을 운영하는데, 갑작스럽게 임대료를 인상하겠다는 건물주의 통보를 받았다. 계약서...</td>\n",
       "      <td>고용ㆍ인사관계에 있어서도 이직전 사업장과 밀접한 관련성이 있다고 할 수 없는 점 등...</td>\n",
       "    </tr>\n",
       "    <tr>\n",
       "      <th>3</th>\n",
       "      <td>아파트 단지 내에서 취미로 드론을 날리다가, 이웃집 창문을 깨뜨렸다. 이웃이 창문 ...</td>\n",
       "      <td>소리를 지르고 짜증을 내어 아파트 경비원이 나와 볼 정도였다고 청구인의 불친절행위를...</td>\n",
       "    </tr>\n",
       "    <tr>\n",
       "      <th>4</th>\n",
       "      <td>차를 주차장에 주차해놓고 왔는데, 돌아와보니 차량이 훼손되어 있었다. CCTV를 확...</td>\n",
       "      <td>것 같아 영업을 쉬기로 하고, 길옆에 주차하여 두었던 청구인의 개인택시를 옆 골목으...</td>\n",
       "    </tr>\n",
       "  </tbody>\n",
       "</table>\n",
       "</div>"
      ],
      "text/plain": [
       "                                          user_input  \\\n",
       "0  나는 친구에게 500만 원을 빌려줬는데, 약속한 기한이 지나도 갚지 않고 연락을 피...   \n",
       "1  동네 마트에서 바닥이 젖어 있는 걸 모르고 미끄러져 크게 다쳤다. 근처에 미끄럼 주...   \n",
       "2  상점을 운영하는데, 갑작스럽게 임대료를 인상하겠다는 건물주의 통보를 받았다. 계약서...   \n",
       "3  아파트 단지 내에서 취미로 드론을 날리다가, 이웃집 창문을 깨뜨렸다. 이웃이 창문 ...   \n",
       "4  차를 주차장에 주차해놓고 왔는데, 돌아와보니 차량이 훼손되어 있었다. CCTV를 확...   \n",
       "\n",
       "                                            response  \n",
       "0  다. 피청구인은 청구인이 위 박○○에게 임금을 지불하지 않았다고 주장하나, 청구인은...  \n",
       "1  적의 파편에 맞아 우측 다리에 부상을 입고 ○○지구경찰병원 ○○분소에서 치료받은 사...  \n",
       "2  고용ㆍ인사관계에 있어서도 이직전 사업장과 밀접한 관련성이 있다고 할 수 없는 점 등...  \n",
       "3  소리를 지르고 짜증을 내어 아파트 경비원이 나와 볼 정도였다고 청구인의 불친절행위를...  \n",
       "4  것 같아 영업을 쉬기로 하고, 길옆에 주차하여 두었던 청구인의 개인택시를 옆 골목으...  "
      ]
     },
     "execution_count": 20,
     "metadata": {},
     "output_type": "execute_result"
    }
   ],
   "source": [
    "df = pd.read_csv('test_files/questions_retrieve.csv', encoding='utf-8-sig')\n",
    "df = df[['user_input', 'response']]\n",
    "\n",
    "df.head()"
   ]
  },
  {
   "cell_type": "code",
   "execution_count": 39,
   "id": "f3bcdd08",
   "metadata": {},
   "outputs": [],
   "source": [
    "# !pip install datasets\n",
    "# !pip install ragas"
   ]
  },
  {
   "cell_type": "code",
   "execution_count": 21,
   "id": "12879dbd",
   "metadata": {},
   "outputs": [
    {
     "data": {
      "text/plain": [
       "Dataset({\n",
       "    features: ['user_input', 'response'],\n",
       "    num_rows: 29\n",
       "})"
      ]
     },
     "execution_count": 21,
     "metadata": {},
     "output_type": "execute_result"
    }
   ],
   "source": [
    "from datasets import Dataset\n",
    "\n",
    "test_dataset = Dataset.from_pandas(df)\n",
    "test_dataset"
   ]
  },
  {
   "cell_type": "code",
   "execution_count": 37,
   "id": "7720562f",
   "metadata": {},
   "outputs": [
    {
     "data": {
      "application/vnd.jupyter.widget-view+json": {
       "model_id": "a67f7ab438af4151a384203ebdcbd1ce",
       "version_major": 2,
       "version_minor": 0
      },
      "text/plain": [
       "Evaluating:   0%|          | 0/29 [00:00<?, ?it/s]"
      ]
     },
     "metadata": {},
     "output_type": "display_data"
    },
    {
     "data": {
      "text/plain": [
       "{'answer_relevancy': 0.2881}"
      ]
     },
     "execution_count": 37,
     "metadata": {},
     "output_type": "execute_result"
    }
   ],
   "source": [
    "from ragas import evaluate\n",
    "from ragas.metrics import (\n",
    "    answer_relevancy,\n",
    "    faithfulness,\n",
    "    context_recall,\n",
    "    context_precision,\n",
    ")\n",
    "\n",
    "result = evaluate(\n",
    "    dataset=test_dataset,\n",
    "    metrics=[\n",
    "        #context_precision,\n",
    "        #faithfulness,\n",
    "        answer_relevancy,\n",
    "        #context_recall,\n",
    "    ],\n",
    ")\n",
    "\n",
    "result\n"
   ]
  },
  {
   "cell_type": "code",
   "execution_count": 10,
   "id": "f8b7f0bb",
   "metadata": {},
   "outputs": [],
   "source": [
    "result_df = result.to_pandas()\n",
    "result_df.to_csv('test_files/result.csv', encoding='utf-8-sig')"
   ]
  },
  {
   "cell_type": "code",
   "execution_count": 258,
   "id": "e9d26ae4",
   "metadata": {},
   "outputs": [],
   "source": [
    "# !pip install pandasgui"
   ]
  },
  {
   "cell_type": "code",
   "execution_count": 11,
   "id": "e8cf1cdb",
   "metadata": {},
   "outputs": [
    {
     "name": "stderr",
     "output_type": "stream",
     "text": [
      "PandasGUI INFO — pandasgui.gui — Opening PandasGUI\n"
     ]
    },
    {
     "data": {
      "text/plain": [
       "<pandasgui.gui.PandasGui at 0x19e6647a690>"
      ]
     },
     "execution_count": 11,
     "metadata": {},
     "output_type": "execute_result"
    }
   ],
   "source": [
    "from pandasgui import show\n",
    "\n",
    "result_df = pd.read_csv('test_files/result.csv', encoding='utf-8-sig')\n",
    "show(result_df.head(30))"
   ]
  },
  {
   "cell_type": "markdown",
   "id": "3fa21bf6",
   "metadata": {},
   "source": [
    "# 코사인 유사도 평가"
   ]
  },
  {
   "cell_type": "code",
   "execution_count": 23,
   "id": "e12213f1",
   "metadata": {},
   "outputs": [],
   "source": [
    "# !pip install sentence_transformers"
   ]
  },
  {
   "cell_type": "code",
   "execution_count": 30,
   "id": "fb1934c0",
   "metadata": {},
   "outputs": [],
   "source": [
    "import pandas as pd\n",
    "from sentence_transformers import SentenceTransformer, util\n",
    "\n",
    "# 1. CSV 불러오기\n",
    "df = pd.read_csv(\"test_files/questions_retrieve.csv\")\n",
    "\n",
    "# 2. 모델 로딩 (한국어에 적합한 SBERT 모델 추천)\n",
    "model = SentenceTransformer(\"snunlp/KR-SBERT-V40K-klueNLI-augSTS\")\n",
    "\n",
    "# 3. 코사인 유사도 계산 함수\n",
    "def compute_cosine_similarity(row):\n",
    "    query_emb = model.encode(row['user_input'], convert_to_tensor=True)\n",
    "    context_emb = model.encode(row['response'], convert_to_tensor=True)\n",
    "    return util.cos_sim(query_emb, context_emb).item()\n",
    "\n",
    "# 4. 전체 행에 대해 적용\n",
    "df['cos_acc'] = df.apply(compute_cosine_similarity, axis=1)\n",
    "\n",
    "df = df.sort_values(by='cos_acc', ascending=False)\n",
    "\n",
    "# 5. 결과 확인\n",
    "df = df[['user_input', 'response', 'cos_acc']]\n",
    "\n",
    "# 6. 저장 (선택)\n",
    "df.to_csv(\"test_files/questions_retrieve_with_cosine.csv\", index=False)"
   ]
  },
  {
   "cell_type": "code",
   "execution_count": 3,
   "id": "1f7326e6",
   "metadata": {},
   "outputs": [
    {
     "name": "stderr",
     "output_type": "stream",
     "text": [
      "PandasGUI INFO — pandasgui.gui — Opening PandasGUI\n"
     ]
    },
    {
     "data": {
      "text/plain": [
       "<pandasgui.gui.PandasGui at 0x1fadaacb6e0>"
      ]
     },
     "execution_count": 3,
     "metadata": {},
     "output_type": "execute_result"
    }
   ],
   "source": [
    "from pandasgui import show\n",
    "\n",
    "df = pd.read_csv('test_files/questions_retrieve_with_cosine.csv', encoding='utf-8-sig')\n",
    "show(df.head(30))"
   ]
  },
  {
   "cell_type": "markdown",
   "id": "74771bec",
   "metadata": {},
   "source": [
    "# LLM 평가"
   ]
  },
  {
   "cell_type": "code",
   "execution_count": 35,
   "id": "2daed3ef",
   "metadata": {},
   "outputs": [
    {
     "name": "stdout",
     "output_type": "stream",
     "text": [
      "                                           user_input  LLM_score\n",
      "0   나는 친구에게 500만 원을 빌려줬는데, 약속한 기한이 지나도 갚지 않고 연락을 피...          0\n",
      "1   동네 마트에서 바닥이 젖어 있는 걸 모르고 미끄러져 크게 다쳤다. 근처에 미끄럼 주...          0\n",
      "2   상점을 운영하는데, 갑작스럽게 임대료를 인상하겠다는 건물주의 통보를 받았다. 계약서...          0\n",
      "3   아파트 단지 내에서 취미로 드론을 날리다가, 이웃집 창문을 깨뜨렸다. 이웃이 창문 ...          0\n",
      "4   차를 주차장에 주차해놓고 왔는데, 돌아와보니 차량이 훼손되어 있었다. CCTV를 확...          4\n",
      "5   택시를 타고 가다가 운전자의 과속으로 인해 사고가 났다. 운전자는 거의 무사하였으나...          0\n",
      "6   온라인 쇼핑몰에서 물건을 주문하였는데, 배송이 한 달 넘게 지연되고 있다. 판매자는...          0\n",
      "7   나는 공무원인데, 직장에서 성희롱을 당했다. 상사의 부적절한 말과 행동으로 인해 업...          0\n",
      "8   이웃집에서 매일 밤 늦게까지 큰 소리로 노래를 부른다. 이로 인해 잠을 제대로 잘 ...          0\n",
      "9   공장에서 근무하다가, 안전 대책이 미흡한 상황에서 근무하다가 다치게 되었다. 회사는...          4\n",
      "10  부동산을 매매하다가, 계약 상의 내용을 위반한 상대방으로 인해 손해를 보았다. 상대...          0\n",
      "11  직원인데, 회사에서 정당한 이유 없이 해고 당했다. 이에 대한 법적 대응을 고려하고...          2\n",
      "12  주차장에 차를 주차해 놓았는데, 돌아오니 차량이 도난당한 상태였다. 주차장 측은 C...          0\n",
      "13  아이가 놀이터에서 미끄럼틀에서 미끄러지다가 크게 다쳤다. 미끄럼틀 설치가 불안정하고...          0\n",
      "14  집을 살 때 중개업자가 중요한 정보를 숨겨 팔았다. 이로 인해 큰 손해를 보았고, ...          0\n",
      "15  아파트에서 살고 있는데, 옆집에서 계속해서 담배 연기가 들어온다. 이로 인해 건강에...          0\n",
      "16  카페에서 음료를 마시다가, 컵에 작은 유리조각이 들어 있어 입을 다쳤다. 카페는 사...          0\n",
      "17  택시를 타고 가다가, 운전자가 신호를 위반하며 다른 차량과 충돌하는 사고가 발생했다...          0\n",
      "18  온라인에서 물건을 팔았는데, 구매자가 결제를 하지 않고 물건을 착취하였다. 구매자는...          0\n",
      "19  집을 임대하던 중, 세입자가 임대료를 납부하지 않고 사라졌다. 세입자의 연락처는 더...          0\n",
      "20  인터넷에서 상품을 판매했는데, 구매자가 받은 상품이 이미 사용된 상태라며 환불을 요...          0\n",
      "21  아이를 유치원에 보내는데, 아이가 교사로부터 체벌을 당했다. 유치원 측은 이를 부인...          0\n",
      "22  아파트에서 살고 있는데, 상위 층에서 매일 밤 늦게까지 소음을 발생시킨다. 이로 인...          4\n",
      "23  친구에게 빌려준 돈을 돌려받지 못하고 있다. 약속한 기한이 지났지만, 친구는 돈을 ...          0\n",
      "24  아이가 학교에서 괴롭힘을 당하고 있다. 학교는 이에 대한 조치를 취하지 않고 있으며...          7\n",
      "25  쇼핑몰에서 옷을 구매했는데, 홈페이지에 표시된 사이즈와 실제 사이즈가 많이 달랐다....          0\n",
      "26  직장에서 성희롱을 당했으나, 회사는 이를 무시하고 있다. 상사의 부적절한 행동으로 ...          0\n",
      "27  임대아파트에서 살고 있는데, 건물주가 임대료를 단번에 50% 인상하겠다고 통보하였다...          0\n",
      "28  인터넷에서 사용하지 않는 물건을 팔았는데, 구매자가 물건을 받았음에도 불구하고 전혀...          0\n"
     ]
    }
   ],
   "source": [
    "import pandas as pd\n",
    "import openai\n",
    "\n",
    "# 최신 openai 라이브러리용 클라이언트 설정\n",
    "client = openai.OpenAI(api_key=api_key)\n",
    "\n",
    "# CSV 불러오기\n",
    "df = pd.read_csv(\"test_files/questions_retrieve.csv\")\n",
    "\n",
    "# 프롬프트 템플릿\n",
    "def build_prompt(user_input, response):\n",
    "    return f\"\"\"\n",
    "### 사용자 질문:\n",
    "{user_input}\n",
    "\n",
    "### RAG로 검색된 문단:\n",
    "{response}\n",
    "\n",
    "### 평가 기준:\n",
    "주어진 문단이 사용자 질문과 얼마나 잘 일치하는지 0~10 사이의 점수로 평가해 주세요.\n",
    "\n",
    "0점: 전혀 일치하지 않거나, 문단 내용과 모순됨  \n",
    "4점: 부분적으로 일치하지만 중요한 오차 또는 누락이 있음  \n",
    "7점: 대체로 일치하지만 경미한 오류나 누락이 있음  \n",
    "10점: 완전히 일치하고 정확함\n",
    "\n",
    "숫자 점수만 출력하세요. (예: 7)\n",
    "\"\"\"\n",
    "\n",
    "# LLM 점수 평가 함수 (openai>=1.0)\n",
    "def get_llm_score(user_input, response):\n",
    "    prompt = build_prompt(user_input, response)\n",
    "    try:\n",
    "        chat_completion = client.chat.completions.create(\n",
    "            model=\"gpt-4\",\n",
    "            messages=[{\"role\": \"user\", \"content\": prompt}],\n",
    "            temperature=0\n",
    "        )\n",
    "        score_text = chat_completion.choices[0].message.content.strip()\n",
    "        score = int(score_text.split()[0])  # 숫자만 추출\n",
    "        return score\n",
    "    except Exception as e:\n",
    "        print(f\"Error: {e}\")\n",
    "        return None\n",
    "\n",
    "# 상위 5개 샘플만 테스트 (비용 고려)\n",
    "df_sample = df[['user_input', 'response']]\n",
    "df_sample['LLM_score'] = df_sample.apply(lambda row: get_llm_score(row['user_input'], row['response']), axis=1)\n",
    "\n",
    "# 결과 저장\n",
    "df_sample.to_csv(\"test_files/llm_scored_output.csv\", index=False)\n",
    "print(df_sample[['user_input', 'LLM_score']])\n"
   ]
  },
  {
   "cell_type": "markdown",
   "id": "c3549298",
   "metadata": {},
   "source": [
    "# 기타 지표"
   ]
  },
  {
   "cell_type": "code",
   "execution_count": 39,
   "id": "9d0eb28f",
   "metadata": {},
   "outputs": [],
   "source": [
    "# !pip install rouge_score"
   ]
  },
  {
   "cell_type": "code",
   "execution_count": 47,
   "id": "3116dcff",
   "metadata": {},
   "outputs": [
    {
     "name": "stdout",
     "output_type": "stream",
     "text": [
      "[1] 나는 친구에게 500만 원을 빌려줬는데, 약속한 기한이 지나도 갚지 않고 연락을 피하고 있다. 여러 차례 연락했지만 계속 무시당하고 있다. 법적으로 대응해야 할지 고민 중이다.\n",
      "[2] 다. 피청구인은 청구인이 위 박○○에게 임금을 지불하지 않았다고 주장하나, 청구인은 위 박○○을 채용함에 있어 근로계약서를 작성하였고 매월 고정적으로 임금을 지불하진 않았으나 월 100만원의 목돈을 한번에 지급하기엔 사정이 여의치 않아 필요에 따라 수시로 가불해 주는 형태로 임금을 지급하였다.\n",
      "[rouge1] 0.35294\n",
      "[rouge2] 0.07947\n",
      "[rougeL] 0.22222\n",
      "============================================================\n",
      "[1] 동네 마트에서 바닥이 젖어 있는 걸 모르고 미끄러져 크게 다쳤다. 근처에 미끄럼 주의 표지판도 없었고, 병원 진단 결과 무릎 인대가 파열되었다. 치료비와 손해배상을 요구하고 싶다.\n",
      "[2] 적의 파편에 맞아 우측 다리에 부상을 입고 ○○지구경찰병원 ○○분소에서 치료받은 사실이 있다고 인우보증하고 있는 점 등에 비추어 볼 때, 이 건 처분은 위법ㆍ부당하여 취소되어야 한다고 주장한다.\n",
      "[rouge1] 0.28829\n",
      "[rouge2] 0.03670\n",
      "[rougeL] 0.16216\n",
      "============================================================\n",
      "[1] 상점을 운영하는데, 갑작스럽게 임대료를 인상하겠다는 건물주의 통보를 받았다. 계약서에는 임대료 인상에 대한 내용이 명확히 명시되어 있지 않은 상황이다.\n",
      "[2] 고용ㆍ인사관계에 있어서도 이직전 사업장과 밀접한 관련성이 있다고 할 수 없는 점 등으로 미루어 볼 때, 청구인이 이직전 사업의 시설ㆍ설비 또는 그 임차권을 유상 또는 무상으로 양도받은 사업주에 해당된다는 이유로 채용장려금의 지급을 거부한 피청구인의 이 건 처분은 위법ㆍ부당하다고 할 것이다.\n",
      "[rouge1] 0.25758\n",
      "[rouge2] 0.03077\n",
      "[rougeL] 0.15152\n",
      "============================================================\n",
      "[1] 아파트 단지 내에서 취미로 드론을 날리다가, 이웃집 창문을 깨뜨렸다. 이웃이 창문 수리비를 요구하고 있으며, 법적 책임에 대해 알고 싶다.\n",
      "[2] 소리를 지르고 짜증을 내어 아파트 경비원이 나와 볼 정도였다고 청구인의 불친절행위를 신고하였다.\n",
      "[rouge1] 0.31429\n",
      "[rouge2] 0.05882\n",
      "[rougeL] 0.17143\n",
      "============================================================\n",
      "[1] 차를 주차장에 주차해놓고 왔는데, 돌아와보니 차량이 훼손되어 있었다. CCTV를 확인해보니 주차장 관리자가 차량을 이동하다가 발생한 사고였다.\n",
      "[2] 것 같아 영업을 쉬기로 하고, 길옆에 주차하여 두었던 청구인의 개인택시를 옆 골목으로 이동주차하려고 약 5m정도 옮기던 중 마침 비보호지역에서 좌회전하여 골목길로 들어오던 청구외 김△△가 운전하는 경남○○라○○호 티코승용차가 청구인의 차를 충격하는 가벼운 접촉사고가 발생하여, 동 교통사고의 처리과정에서 음주측정을 당하였다.\n",
      "[rouge1] 0.34483\n",
      "[rouge2] 0.11189\n",
      "[rougeL] 0.20690\n",
      "============================================================\n"
     ]
    }
   ],
   "source": [
    "from rouge_score import rouge_scorer\n",
    "from langchain_teddynote.community.kiwi_tokenizer import KiwiTokenizer\n",
    "\n",
    "df = pd.read_csv(\"test_files/questions_retrieve.csv\")\n",
    "\n",
    "sent1 = df['user_input'][:5]\n",
    "sent2 = df['response'][:5]\n",
    "\n",
    "scorer = rouge_scorer.RougeScorer(\n",
    "    [\"rouge1\", \"rouge2\", \"rougeL\"], use_stemmer=False, tokenizer=KiwiTokenizer()\n",
    ")\n",
    "\n",
    "for i in range(len(sent1)):\n",
    "    print(\n",
    "        f\"[1] {sent1[i]}\\n[2] {sent2[i]}\\n[rouge1] {scorer.score(sent1[i], sent2[i])['rouge1'].fmeasure:.5f}\\n[rouge2] {scorer.score(sent1[i], sent2[i])['rouge2'].fmeasure:.5f}\\n[rougeL] {scorer.score(sent1[i], sent2[i])['rougeL'].fmeasure:.5f}\"\n",
    "    )\n",
    "    print(\"===\" * 20)"
   ]
  }
 ],
 "metadata": {
  "kernelspec": {
   "display_name": "Python 3",
   "language": "python",
   "name": "python3"
  },
  "language_info": {
   "codemirror_mode": {
    "name": "ipython",
    "version": 3
   },
   "file_extension": ".py",
   "mimetype": "text/x-python",
   "name": "python",
   "nbconvert_exporter": "python",
   "pygments_lexer": "ipython3",
   "version": "3.12.2"
  }
 },
 "nbformat": 4,
 "nbformat_minor": 5
}
